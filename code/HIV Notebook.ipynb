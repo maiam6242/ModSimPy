{
 "cells": [
  {
   "cell_type": "markdown",
   "metadata": {},
   "source": [
    "# Modeling and Simulation in Python\n",
    "\n",
    "HIV Model\n",
    "\n",
    "Copyright 2017 Allen Downey\n",
    "\n",
    "License: [Creative Commons Attribution 4.0 International](https://creativecommons.org/licenses/by/4.0)\n"
   ]
  },
  {
   "cell_type": "code",
   "execution_count": 1,
   "metadata": {},
   "outputs": [],
   "source": [
    "# Configure Jupyter so figures appear in the notebook\n",
    "%matplotlib inline\n",
    "\n",
    "# Configure Jupyter to display the assigned value after an assignment\n",
    "%config InteractiveShell.ast_node_interactivity='last_expr_or_assign'\n",
    "\n",
    "# import functions from the modsim.py module\n",
    "from modsim import *"
   ]
  },
  {
   "cell_type": "markdown",
   "metadata": {},
   "source": [
    "### Code from previous chapters"
   ]
  },
  {
   "cell_type": "markdown",
   "metadata": {},
   "source": [
    "`make_system`, `plot_results`, and `calc_total_infected` are unchanged."
   ]
  },
  {
   "cell_type": "code",
   "execution_count": 2,
   "metadata": {},
   "outputs": [],
   "source": [
    "def make_system(beta, gamma, tau, pi, alpha, delta, sigma, mu, rho):\n",
    "    \"\"\"Make a system object for the SIR model.\n",
    "    \n",
    "    beta: contact rate in days\n",
    "    gamma: recovery rate in days\n",
    "    \n",
    "    returns: System object\n",
    "    \"\"\"\n",
    "    init = State(R = 200, E = 0, L = 0, V = .0000004)\n",
    "\n",
    "    t0 = 1\n",
    "    dt = .001\n",
    "    t_end = 120000/dt\n",
    "    \n",
    "\n",
    "    return System(init=init, t0=t0, t_end=t_end,\n",
    "                  beta=beta, gamma=gamma, tau=tau, pi=pi, alpha=alpha, delta=delta, sigma=sigma, mu=mu, rho=rho, dt=dt)"
   ]
  },
  {
   "cell_type": "code",
   "execution_count": 3,
   "metadata": {},
   "outputs": [],
   "source": [
    "def plot_results(R, E, L, V):\n",
    "    \"\"\"Plot the results of a SIR model.\n",
    "    \n",
    "    S: TimeSeries\n",
    "    I: TimeSeries\n",
    "    R: TimeSeries\n",
    "    \"\"\"\n",
    "    "
   ]
  },
  {
   "cell_type": "code",
   "execution_count": 4,
   "metadata": {},
   "outputs": [],
   "source": [
    "def run_simulation(system, update_func):\n",
    "    \"\"\"Runs a simulation of the system.\n",
    "        \n",
    "    system: System object\n",
    "    update_func: function that updates state\n",
    "    \n",
    "    returns: TimeFrame\n",
    "    \"\"\"\n",
    "    unpack(system)\n",
    "    \n",
    "    frame = TimeFrame(columns=init.index)\n",
    "    frame.row[t0] = init\n",
    "    \n",
    "    i = t0\n",
    "    \n",
    "    for t in linspace(t0, t_end, dt*100000000000):\n",
    "        frame.row[i+1] = update_func(frame.row[i], dt, system)\n",
    "        i = i + 1\n",
    "        \n",
    "    return frame"
   ]
  },
  {
   "cell_type": "code",
   "execution_count": 5,
   "metadata": {},
   "outputs": [],
   "source": [
    "# Original\n",
    "\n",
    "def update_func(state, dt, system):\n",
    "    \"\"\"Update the SIR model.\n",
    "    \n",
    "    state: State (s, i, r)\n",
    "    t: time\n",
    "    system: System object\n",
    "    \n",
    "    returns: State (sir)\n",
    "    \"\"\"\n",
    "    \n",
    "    unpack(system)\n",
    "    R, E, L, V = state\n",
    "    \n",
    "    dRdt = gamma * tau - mu * R - beta * R * V\n",
    "    dVdt = pi * E - sigma * V\n",
    "    dEdt = (1 - rho) * beta * R * V + alpha * L - delta * E\n",
    "    dLdt = rho * beta * R * V - mu * L - alpha * L\n",
    "    \n",
    "   \n",
    "    r = 0\n",
    "    e = 0\n",
    "    l = 0\n",
    "    v = 0\n",
    "    \n",
    "    r += R + dRdt * dt\n",
    "    e += E + dEdt * dt\n",
    "    l += L + dLdt * dt\n",
    "    v += V + dVdt * dt\n",
    "    \n",
    "    return State(R=r, E=e, L=l, V=v)"
   ]
  },
  {
   "cell_type": "code",
   "execution_count": null,
   "metadata": {},
   "outputs": [
    {
     "name": "stdout",
     "output_type": "stream",
     "text": [
      "init     R    2.000000e+02\n",
      "E    0.000000e+00\n",
      "L    0.000...\n",
      "t0                                                       1\n",
      "t_end                                              1.2e+08\n",
      "beta                                               0.00027\n",
      "gamma                                                 1.36\n",
      "tau                                                    0.2\n",
      "pi                                                     100\n",
      "alpha                                                0.036\n",
      "delta                                                 0.33\n",
      "sigma                                                    2\n",
      "mu                                                 0.00136\n",
      "rho                                                    0.1\n",
      "dt                                                   0.001\n",
      "dtype: object\n"
     ]
    }
   ],
   "source": [
    "print (make_system(.00027, 1.36, .2, 100, .036, .33, 2, .00136, .1))\n",
    "x =run_simulation(make_system(.00027, 1.36, .2, 100, .036, .33, 2, .00136, .1), update_func)"
   ]
  },
  {
   "cell_type": "code",
   "execution_count": null,
   "metadata": {
    "scrolled": true
   },
   "outputs": [],
   "source": [
    "x.plot()"
   ]
  },
  {
   "cell_type": "code",
   "execution_count": null,
   "metadata": {},
   "outputs": [],
   "source": [
    "plot(x.index, x.R)"
   ]
  },
  {
   "cell_type": "code",
   "execution_count": null,
   "metadata": {},
   "outputs": [],
   "source": [
    "plot(x.index, x.V)"
   ]
  },
  {
   "cell_type": "code",
   "execution_count": null,
   "metadata": {},
   "outputs": [],
   "source": [
    "plot(x.index, x.E)"
   ]
  },
  {
   "cell_type": "code",
   "execution_count": null,
   "metadata": {},
   "outputs": [],
   "source": [
    "plot(x.index, x.L)"
   ]
  },
  {
   "cell_type": "code",
   "execution_count": null,
   "metadata": {},
   "outputs": [],
   "source": []
  }
 ],
 "metadata": {
  "kernelspec": {
   "display_name": "Python 3",
   "language": "python",
   "name": "python3"
  },
  "language_info": {
   "codemirror_mode": {
    "name": "ipython",
    "version": 3
   },
   "file_extension": ".py",
   "mimetype": "text/x-python",
   "name": "python",
   "nbconvert_exporter": "python",
   "pygments_lexer": "ipython3",
   "version": "3.6.6"
  }
 },
 "nbformat": 4,
 "nbformat_minor": 2
}
